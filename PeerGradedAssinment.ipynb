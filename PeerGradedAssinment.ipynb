{
  "metadata": {
    "language_info": {
      "codemirror_mode": {
        "name": "python",
        "version": 3
      },
      "file_extension": ".py",
      "mimetype": "text/x-python",
      "name": "python",
      "nbconvert_exporter": "python",
      "pygments_lexer": "ipython3",
      "version": "3.8"
    },
    "kernelspec": {
      "name": "python",
      "display_name": "Pyolite",
      "language": "python"
    }
  },
  "nbformat_minor": 4,
  "nbformat": 4,
  "cells": [
    {
      "cell_type": "markdown",
      "source": "# My Jupyter Notebook on IBM Watson Studio",
      "metadata": {}
    },
    {
      "cell_type": "markdown",
      "source": "**Mihreteab Tesfamariam**\n\nData Science Or Related Data Analytics",
      "metadata": {}
    },
    {
      "cell_type": "markdown",
      "source": "*I am interested in data science because, I am a detective person; I love to solve puzzle, which is very dependent in Data. Besides, I have studied statistics and have an experience in data analysis.* ",
      "metadata": {}
    },
    {
      "cell_type": "markdown",
      "source": "### My code is intended to solve simple math expressions",
      "metadata": {}
    },
    {
      "cell_type": "code",
      "source": "5-2",
      "metadata": {
        "trusted": true
      },
      "execution_count": 1,
      "outputs": [
        {
          "execution_count": 1,
          "output_type": "execute_result",
          "data": {
            "text/plain": "3"
          },
          "metadata": {}
        }
      ]
    },
    {
      "cell_type": "markdown",
      "source": "The purpose of this notebook is\n* introduce to create notebook\n* do some math operastions\n* change style \n---\nSign | Number | Second Number | Operation\n--- | --- | --- | ---\n< | 8 | 7 | -\n",
      "metadata": {}
    },
    {
      "cell_type": "code",
      "source": "",
      "metadata": {},
      "execution_count": null,
      "outputs": []
    }
  ]
}